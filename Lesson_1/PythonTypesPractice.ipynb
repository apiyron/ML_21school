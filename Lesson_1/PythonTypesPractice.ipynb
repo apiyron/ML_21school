{
 "cells": [
  {
   "cell_type": "markdown",
   "metadata": {
    "collapsed": true
   },
   "source": [
    "## Практическое задание 1\n",
    "### Знакомство с Python\n",
    "Автор: Хужина Вария"
   ]
  },
  {
   "cell_type": "markdown",
   "metadata": {},
   "source": [
    "Числа"
   ]
  },
  {
   "cell_type": "code",
   "execution_count": 12,
   "metadata": {},
   "outputs": [],
   "source": [
    "a = 1214\n",
    "b = 7"
   ]
  },
  {
   "cell_type": "code",
   "execution_count": 1,
   "metadata": {},
   "outputs": [
    {
     "data": {
      "text/plain": [
       "3886250645390831275904"
      ]
     },
     "execution_count": 1,
     "metadata": {},
     "output_type": "execute_result"
    }
   ],
   "source": [
    "# возвести a в степень b\n",
    "a = 1214\n",
    "b = 7\n",
    "a ** b"
   ]
  },
  {
   "cell_type": "code",
   "execution_count": 2,
   "metadata": {},
   "outputs": [
    {
     "data": {
      "text/plain": [
       "0.6569865987187891"
      ]
     },
     "execution_count": 2,
     "metadata": {},
     "output_type": "execute_result"
    }
   ],
   "source": [
    "# вывести синус числа b\n",
    "from math import sin\n",
    "b = 7\n",
    "sin(b)"
   ]
  },
  {
   "cell_type": "code",
   "execution_count": 6,
   "metadata": {},
   "outputs": [
    {
     "data": {
      "text/plain": [
       "True"
      ]
     },
     "execution_count": 6,
     "metadata": {},
     "output_type": "execute_result"
    }
   ],
   "source": [
    "a = 1214\n",
    "not (a % 2)"
   ]
  },
  {
   "cell_type": "code",
   "execution_count": null,
   "metadata": {
    "collapsed": true
   },
   "outputs": [],
   "source": [
    "# найти НОД чисел а и б (проверьте, может быть за вас уже все сделано)\n",
    "# TODO"
   ]
  },
  {
   "cell_type": "code",
   "execution_count": 8,
   "metadata": {},
   "outputs": [],
   "source": [
    "a = 10.1446\n",
    "b = 31.255346"
   ]
  },
  {
   "cell_type": "code",
   "execution_count": 10,
   "metadata": {},
   "outputs": [
    {
     "name": "stdout",
     "output_type": "stream",
     "text": [
      "10.14, 31.26\n"
     ]
    }
   ],
   "source": [
    "print(\"{0:.2f}, {1:.2f}\".format(round(a,2), round(b,2)))"
   ]
  },
  {
   "cell_type": "markdown",
   "metadata": {},
   "source": [
    "Строки (новые методы)"
   ]
  },
  {
   "cell_type": "code",
   "execution_count": 17,
   "metadata": {},
   "outputs": [],
   "source": [
    "s = 'a кому нужна война? Никому, конечно!    '"
   ]
  },
  {
   "cell_type": "code",
   "execution_count": 19,
   "metadata": {},
   "outputs": [
    {
     "data": {
      "text/plain": [
       "'a кому нужна война? Никому, конечно!'"
      ]
     },
     "execution_count": 19,
     "metadata": {},
     "output_type": "execute_result"
    }
   ],
   "source": [
    "# удалить из строки пробелы в конце\n",
    "s.strip()"
   ]
  },
  {
   "cell_type": "code",
   "execution_count": 21,
   "metadata": {},
   "outputs": [
    {
     "data": {
      "text/plain": [
       "'A КОМУ НУЖНА ВОЙНА? НИКОМУ, КОНЕЧНО!    '"
      ]
     },
     "execution_count": 21,
     "metadata": {},
     "output_type": "execute_result"
    }
   ],
   "source": [
    "# написать с большой буквы\n",
    "s.upper()"
   ]
  },
  {
   "cell_type": "markdown",
   "metadata": {},
   "source": [
    "Попробуйте различные строковые методы. Экспериментируйте!"
   ]
  },
  {
   "cell_type": "markdown",
   "metadata": {},
   "source": [
    "Списки"
   ]
  },
  {
   "cell_type": "code",
   "execution_count": 45,
   "metadata": {},
   "outputs": [],
   "source": [
    "array = [2, 5, 4, 10, 23, 4]"
   ]
  },
  {
   "cell_type": "code",
   "execution_count": 39,
   "metadata": {},
   "outputs": [
    {
     "data": {
      "text/plain": [
       "23"
      ]
     },
     "execution_count": 39,
     "metadata": {},
     "output_type": "execute_result"
    }
   ],
   "source": [
    "# найти индекс максимального элемента \n",
    "array = [2, 5, 4, 10, 23, 4]\n",
    "sorted(array)[-1]"
   ]
  },
  {
   "cell_type": "code",
   "execution_count": 1,
   "metadata": {},
   "outputs": [
    {
     "name": "stdout",
     "output_type": "stream",
     "text": [
      "[4, 23, 10, 4, 5, 2]\n"
     ]
    }
   ],
   "source": [
    "# развернуть список в обратном порядке\n",
    "array = [2, 5, 4, 10, 23, 4]\n",
    "array.reverse()\n",
    "print(array)"
   ]
  },
  {
   "cell_type": "code",
   "execution_count": 43,
   "metadata": {},
   "outputs": [
    {
     "data": {
      "text/plain": [
       "2"
      ]
     },
     "execution_count": 43,
     "metadata": {},
     "output_type": "execute_result"
    }
   ],
   "source": [
    "# посчитать количество четверок (ипользовать метод)\n",
    "array = [2, 5, 4, 10, 23, 4]\n",
    "array.count(4)"
   ]
  },
  {
   "cell_type": "code",
   "execution_count": 53,
   "metadata": {},
   "outputs": [
    {
     "data": {
      "text/plain": [
       "[23, 10, 5, 4, 4, 2]"
      ]
     },
     "execution_count": 53,
     "metadata": {},
     "output_type": "execute_result"
    }
   ],
   "source": [
    "# Отсортировать список по убыванию\n",
    "array = [2, 5, 4, 10, 23, 4]\n",
    "array.sort()\n",
    "array.reverse()\n",
    "array"
   ]
  },
  {
   "cell_type": "code",
   "execution_count": 63,
   "metadata": {},
   "outputs": [
    {
     "data": {
      "text/plain": [
       "[10, 4, 4, 2]"
      ]
     },
     "execution_count": 63,
     "metadata": {},
     "output_type": "execute_result"
    }
   ],
   "source": [
    "# вывести только четные элементы списка\n",
    "array = [2, 5, 4, 10, 23, 4]\n",
    "res = list()\n",
    "for el in array:\n",
    "    if not (el % 2):\n",
    "        res.append(el)\n",
    "res"
   ]
  },
  {
   "cell_type": "code",
   "execution_count": 66,
   "metadata": {},
   "outputs": [
    {
     "name": "stdout",
     "output_type": "stream",
     "text": [
      "2\n",
      "5\n",
      "4\n",
      "10\n",
      "23\n",
      "4\n"
     ]
    }
   ],
   "source": [
    "# Напечатать элементы массива в разных строчках\n",
    "array = [2, 5, 4, 10, 23, 4]\n",
    "for el in array: print(el)"
   ]
  },
  {
   "cell_type": "code",
   "execution_count": 69,
   "metadata": {},
   "outputs": [
    {
     "name": "stdout",
     "output_type": "stream",
     "text": [
      "[1, 4, 5, 4, 6, 7]\n"
     ]
    }
   ],
   "source": [
    "a = [1, 4, 5]\n",
    "b = [4, 6, 7]\n",
    "for el in b: a.append(el)\n",
    "print(a)"
   ]
  },
  {
   "cell_type": "markdown",
   "metadata": {},
   "source": [
    "Экспериметируйте!"
   ]
  },
  {
   "cell_type": "markdown",
   "metadata": {},
   "source": [
    "## Тут вам понадобятся методы строк, словарь и списки"
   ]
  },
  {
   "cell_type": "markdown",
   "metadata": {},
   "source": [
    "Найдите топ-5 самых встречаемых букв в тесте, не включая пробелы, знаки препинания, символы табуляции и д т "
   ]
  },
  {
   "cell_type": "code",
   "execution_count": 98,
   "metadata": {},
   "outputs": [],
   "source": [
    "text = \"\"\"Президент США Дональд Трамп на открытии саммита «Большой двадцатки» не поздоровался \n",
    "с президентом России Владимиром Путиным — во время общего фотографирования \n",
    "Трамп прошел мимо Путина и встал между премьером Японии Синдзо Абэ и президентом \n",
    "Франции Эммануэлем Макроном.\n",
    " \\ Но Путин, похоже, не очень-то и расстроился. Посмотрите, \n",
    " как он радостно приветствует наследного принца Саудовской \n",
    " Аравии — как старого приятеля!\"\"\""
   ]
  },
  {
   "cell_type": "code",
   "execution_count": 100,
   "metadata": {},
   "outputs": [
    {
     "name": "stdout",
     "output_type": "stream",
     "text": [
      "и\n",
      "президентом\n",
      "не\n",
      "как\n",
      "Трамп\n"
     ]
    }
   ],
   "source": [
    "d = dict()\n",
    "text_cleared = ''\n",
    "for char in text:\n",
    "    if (char.isalpha() or char.isspace()):\n",
    "        text_cleared += char\n",
    "text = text_cleared.strip()\n",
    "text = ' '.join(text.split())\n",
    "l = text.split(\" \")\n",
    "for word in l:\n",
    "    if word not in d.keys():\n",
    "        d[word] = 1\n",
    "    else:\n",
    "        d[word] += 1\n",
    "words = set(zip(d.values(), d.keys()))\n",
    "for i in range(5):\n",
    "    max_v = max(words)\n",
    "    print(max_v[1])\n",
    "    words.remove(max_v)"
   ]
  },
  {
   "cell_type": "code",
   "execution_count": null,
   "metadata": {
    "collapsed": true
   },
   "outputs": [],
   "source": []
  },
  {
   "cell_type": "code",
   "execution_count": null,
   "metadata": {
    "collapsed": true
   },
   "outputs": [],
   "source": []
  },
  {
   "cell_type": "code",
   "execution_count": null,
   "metadata": {
    "collapsed": true
   },
   "outputs": [],
   "source": []
  }
 ],
 "metadata": {
  "kernelspec": {
   "display_name": "Python 3",
   "language": "python",
   "name": "python3"
  },
  "language_info": {
   "codemirror_mode": {
    "name": "ipython",
    "version": 3
   },
   "file_extension": ".py",
   "mimetype": "text/x-python",
   "name": "python",
   "nbconvert_exporter": "python",
   "pygments_lexer": "ipython3",
   "version": "3.7.0"
  }
 },
 "nbformat": 4,
 "nbformat_minor": 2
}
